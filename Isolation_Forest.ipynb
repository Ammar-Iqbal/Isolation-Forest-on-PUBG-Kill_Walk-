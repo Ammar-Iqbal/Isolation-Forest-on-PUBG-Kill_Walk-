{
  "nbformat": 4,
  "nbformat_minor": 0,
  "metadata": {
    "colab": {
      "name": "Isolation Forest.ipynb",
      "provenance": [],
      "collapsed_sections": []
    },
    "kernelspec": {
      "name": "python3",
      "display_name": "Python 3"
    }
  },
  "cells": [
    {
      "cell_type": "code",
      "metadata": {
        "id": "-sqyPilNnVc1"
      },
      "source": [
        "import numpy as np\n",
        "import pandas as pd\n",
        "import matplotlib.pyplot as plt\n",
        "from collections import Counter\n",
        "from sklearn.ensemble import IsolationForest\n",
        "from matplotlib import cm"
      ],
      "execution_count": null,
      "outputs": []
    },
    {
      "cell_type": "code",
      "metadata": {
        "colab": {
          "base_uri": "https://localhost:8080/",
          "height": 212
        },
        "id": "oaZkwOZYsWeY",
        "outputId": "a0ce6367-ec74-4a5f-d7b8-a8da77401225"
      },
      "source": [
        "all_data=pd.read_csv('/content/drive/My Drive/Thesis_PUBG/Kill_Walk.csv')\n",
        "print(all_data.shape)\n",
        "all_data.head()"
      ],
      "execution_count": null,
      "outputs": [
        {
          "output_type": "stream",
          "text": [
            "(87898, 3)\n"
          ],
          "name": "stdout"
        },
        {
          "output_type": "execute_result",
          "data": {
            "text/html": [
              "<div>\n",
              "<style scoped>\n",
              "    .dataframe tbody tr th:only-of-type {\n",
              "        vertical-align: middle;\n",
              "    }\n",
              "\n",
              "    .dataframe tbody tr th {\n",
              "        vertical-align: top;\n",
              "    }\n",
              "\n",
              "    .dataframe thead th {\n",
              "        text-align: right;\n",
              "    }\n",
              "</style>\n",
              "<table border=\"1\" class=\"dataframe\">\n",
              "  <thead>\n",
              "    <tr style=\"text-align: right;\">\n",
              "      <th></th>\n",
              "      <th>tracker_id</th>\n",
              "      <th>solo_Kills</th>\n",
              "      <th>solo_WalkDistance</th>\n",
              "    </tr>\n",
              "  </thead>\n",
              "  <tbody>\n",
              "    <tr>\n",
              "      <th>0</th>\n",
              "      <td>4405</td>\n",
              "      <td>0.007955</td>\n",
              "      <td>0.011768</td>\n",
              "    </tr>\n",
              "    <tr>\n",
              "      <th>1</th>\n",
              "      <td>8199</td>\n",
              "      <td>0.021515</td>\n",
              "      <td>0.019476</td>\n",
              "    </tr>\n",
              "    <tr>\n",
              "      <th>2</th>\n",
              "      <td>4454</td>\n",
              "      <td>0.003254</td>\n",
              "      <td>0.002580</td>\n",
              "    </tr>\n",
              "    <tr>\n",
              "      <th>3</th>\n",
              "      <td>7729</td>\n",
              "      <td>0.010125</td>\n",
              "      <td>0.007152</td>\n",
              "    </tr>\n",
              "    <tr>\n",
              "      <th>4</th>\n",
              "      <td>0</td>\n",
              "      <td>0.007594</td>\n",
              "      <td>0.006809</td>\n",
              "    </tr>\n",
              "  </tbody>\n",
              "</table>\n",
              "</div>"
            ],
            "text/plain": [
              "   tracker_id  solo_Kills  solo_WalkDistance\n",
              "0        4405    0.007955           0.011768\n",
              "1        8199    0.021515           0.019476\n",
              "2        4454    0.003254           0.002580\n",
              "3        7729    0.010125           0.007152\n",
              "4           0    0.007594           0.006809"
            ]
          },
          "metadata": {
            "tags": []
          },
          "execution_count": 4
        }
      ]
    },
    {
      "cell_type": "code",
      "metadata": {
        "colab": {
          "base_uri": "https://localhost:8080/",
          "height": 212
        },
        "id": "TbuOtYnXshJ3",
        "outputId": "07077fc4-7d9e-470a-aa65-71daa790ae45"
      },
      "source": [
        "train=all_data.iloc[:10000,1:3]\n",
        "print(train.shape)\n",
        "train.head()"
      ],
      "execution_count": null,
      "outputs": [
        {
          "output_type": "stream",
          "text": [
            "(10000, 2)\n"
          ],
          "name": "stdout"
        },
        {
          "output_type": "execute_result",
          "data": {
            "text/html": [
              "<div>\n",
              "<style scoped>\n",
              "    .dataframe tbody tr th:only-of-type {\n",
              "        vertical-align: middle;\n",
              "    }\n",
              "\n",
              "    .dataframe tbody tr th {\n",
              "        vertical-align: top;\n",
              "    }\n",
              "\n",
              "    .dataframe thead th {\n",
              "        text-align: right;\n",
              "    }\n",
              "</style>\n",
              "<table border=\"1\" class=\"dataframe\">\n",
              "  <thead>\n",
              "    <tr style=\"text-align: right;\">\n",
              "      <th></th>\n",
              "      <th>solo_Kills</th>\n",
              "      <th>solo_WalkDistance</th>\n",
              "    </tr>\n",
              "  </thead>\n",
              "  <tbody>\n",
              "    <tr>\n",
              "      <th>0</th>\n",
              "      <td>0.007955</td>\n",
              "      <td>0.011768</td>\n",
              "    </tr>\n",
              "    <tr>\n",
              "      <th>1</th>\n",
              "      <td>0.021515</td>\n",
              "      <td>0.019476</td>\n",
              "    </tr>\n",
              "    <tr>\n",
              "      <th>2</th>\n",
              "      <td>0.003254</td>\n",
              "      <td>0.002580</td>\n",
              "    </tr>\n",
              "    <tr>\n",
              "      <th>3</th>\n",
              "      <td>0.010125</td>\n",
              "      <td>0.007152</td>\n",
              "    </tr>\n",
              "    <tr>\n",
              "      <th>4</th>\n",
              "      <td>0.007594</td>\n",
              "      <td>0.006809</td>\n",
              "    </tr>\n",
              "  </tbody>\n",
              "</table>\n",
              "</div>"
            ],
            "text/plain": [
              "   solo_Kills  solo_WalkDistance\n",
              "0    0.007955           0.011768\n",
              "1    0.021515           0.019476\n",
              "2    0.003254           0.002580\n",
              "3    0.010125           0.007152\n",
              "4    0.007594           0.006809"
            ]
          },
          "metadata": {
            "tags": []
          },
          "execution_count": 5
        }
      ]
    },
    {
      "cell_type": "code",
      "metadata": {
        "id": "TBN9hSAfsrBj",
        "colab": {
          "base_uri": "https://localhost:8080/"
        },
        "outputId": "4b973452-b9d9-47e8-d90e-736dafcd991b"
      },
      "source": [
        "rs=np.random.RandomState(0)\n",
        "clf = IsolationForest(max_samples=100,random_state=rs, contamination=.01) \n",
        "clf.fit(train)\n",
        "if_scores = clf.decision_function(train)\n",
        "if_anomalies=clf.predict(train)\n",
        "labels=if_anomalies\n",
        "print(labels)\n",
        "if_anomalies=pd.Series(if_anomalies).replace([-1,1],[1,0])\n",
        "if_anomalies=train[if_anomalies==1];"
      ],
      "execution_count": null,
      "outputs": [
        {
          "output_type": "stream",
          "text": [
            "[ 1  1  1 ...  1  1 -1]\n"
          ],
          "name": "stdout"
        }
      ]
    },
    {
      "cell_type": "code",
      "metadata": {
        "colab": {
          "base_uri": "https://localhost:8080/",
          "height": 312
        },
        "id": "YQgL0GWPtBdy",
        "outputId": "b72ca7a4-17ae-4be8-9d3c-ebe7dd8ed25b"
      },
      "source": [
        "cmap=np.array(['white','red'])\n",
        "plt.scatter(train.iloc[:,0],train.iloc[:,1],c='white',s=20,edgecolor='k')\n",
        "plt.scatter(if_anomalies.iloc[:,0],if_anomalies.iloc[:,1],c='red')\n",
        "plt.xlabel('Kill')\n",
        "plt.ylabel('Walk')\n",
        "plt.title('Isolation Forests')"
      ],
      "execution_count": null,
      "outputs": [
        {
          "output_type": "execute_result",
          "data": {
            "text/plain": [
              "Text(0.5, 1.0, 'Isolation Forests')"
            ]
          },
          "metadata": {
            "tags": []
          },
          "execution_count": 9
        },
        {
          "output_type": "display_data",
          "data": {
            "image/png": "[encoded data removed]",
            "text/plain": [
              "<Figure size 432x288 with 1 Axes>"
            ]
          },
          "metadata": {
            "tags": [],
            "needs_background": "light"
          }
        }
      ]
    },
    {
      "cell_type": "code",
      "metadata": {
        "colab": {
          "base_uri": "https://localhost:8080/"
        },
        "id": "eW1biMWzFglD",
        "outputId": "483342d5-f61e-4d02-8da9-0df0831de2f5"
      },
      "source": [
        "from sklearn.metrics import silhouette_score\r\n",
        "print(f'Silhouette Score: {silhouette_score(train, labels)}')"
      ],
      "execution_count": null,
      "outputs": [
        {
          "output_type": "stream",
          "text": [
            "Silhouette Score: 0.8038415223814102\n"
          ],
          "name": "stdout"
        }
      ]
    },
    {
      "cell_type": "code",
      "metadata": {
        "id": "grBQGQnIF5sb"
      },
      "source": [
        ""
      ],
      "execution_count": null,
      "outputs": []
    }
  ]
}